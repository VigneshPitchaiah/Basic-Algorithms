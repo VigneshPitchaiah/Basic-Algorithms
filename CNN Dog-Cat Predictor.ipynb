{
 "cells": [
  {
   "cell_type": "markdown",
   "metadata": {
    "colab_type": "text",
    "id": "3DR-eO17geWu"
   },
   "source": [
    "# Convolutional Neural Network"
   ]
  },
  {
   "cell_type": "markdown",
   "metadata": {
    "colab_type": "text",
    "id": "EMefrVPCg-60"
   },
   "source": [
    "### Importing the libraries"
   ]
  },
  {
   "cell_type": "code",
   "execution_count": 1,
   "metadata": {
    "colab": {},
    "colab_type": "code",
    "id": "sCV30xyVhFbE"
   },
   "outputs": [],
   "source": [
    "import tensorflow as tf\n",
    "from keras.preprocessing.image import ImageDataGenerator"
   ]
  },
  {
   "cell_type": "code",
   "execution_count": 2,
   "metadata": {
    "colab": {},
    "colab_type": "code",
    "id": "FIleuCAjoFD8"
   },
   "outputs": [
    {
     "data": {
      "text/plain": [
       "'2.11.1'"
      ]
     },
     "execution_count": 2,
     "metadata": {},
     "output_type": "execute_result"
    }
   ],
   "source": [
    "tf.__version__"
   ]
  },
  {
   "cell_type": "markdown",
   "metadata": {
    "colab_type": "text",
    "id": "oxQxCBWyoGPE"
   },
   "source": [
    "## Part 1 - Data Preprocessing"
   ]
  },
  {
   "cell_type": "markdown",
   "metadata": {
    "colab_type": "text",
    "id": "MvE-heJNo3GG"
   },
   "source": [
    "### Preprocessing the Training set"
   ]
  },
  {
   "cell_type": "code",
   "execution_count": 17,
   "metadata": {
    "colab": {},
    "colab_type": "code",
    "id": "0koUcJMJpEBD"
   },
   "outputs": [],
   "source": [
    "train_datagen = ImageDataGenerator( \n",
    "    rescale=1./255,\n",
    "        shear_range=0.2,\n",
    "        zoom_range=0.2,\n",
    "        horizontal_flip=True\n",
    ")"
   ]
  },
  {
   "cell_type": "code",
   "execution_count": 18,
   "metadata": {},
   "outputs": [
    {
     "name": "stdout",
     "output_type": "stream",
     "text": [
      "Found 8000 images belonging to 2 classes.\n"
     ]
    }
   ],
   "source": [
    "training_set = train_datagen.flow_from_directory(\n",
    "    'dataset/training_set',\n",
    "    target_size = (64, 64),\n",
    "    batch_size = 32,\n",
    "    class_mode = 'binary'\n",
    ")"
   ]
  },
  {
   "cell_type": "markdown",
   "metadata": {
    "colab_type": "text",
    "id": "mrCMmGw9pHys"
   },
   "source": [
    "### Preprocessing the Test set"
   ]
  },
  {
   "cell_type": "code",
   "execution_count": 19,
   "metadata": {
    "colab": {},
    "colab_type": "code",
    "id": "SH4WzfOhpKc3"
   },
   "outputs": [
    {
     "name": "stdout",
     "output_type": "stream",
     "text": [
      "Found 2000 images belonging to 2 classes.\n"
     ]
    }
   ],
   "source": [
    "test_datagen = ImageDataGenerator(rescale = 1./255)\n",
    "test_set = test_datagen.flow_from_directory('dataset/test_set',\n",
    "                                            target_size = (64, 64),\n",
    "                                            batch_size = 32,\n",
    "                                            class_mode = 'binary')"
   ]
  },
  {
   "cell_type": "markdown",
   "metadata": {
    "colab_type": "text",
    "id": "af8O4l90gk7B"
   },
   "source": [
    "## Part 2 - Building the CNN"
   ]
  },
  {
   "cell_type": "markdown",
   "metadata": {
    "colab_type": "text",
    "id": "ces1gXY2lmoX"
   },
   "source": [
    "### Initialising the CNN"
   ]
  },
  {
   "cell_type": "code",
   "execution_count": 8,
   "metadata": {
    "colab": {},
    "colab_type": "code",
    "id": "SAUt4UMPlhLS"
   },
   "outputs": [],
   "source": [
    "cnn = tf.keras.models.Sequential()"
   ]
  },
  {
   "cell_type": "markdown",
   "metadata": {
    "colab_type": "text",
    "id": "u5YJj_XMl5LF"
   },
   "source": [
    "### Step 1 - Convolution"
   ]
  },
  {
   "cell_type": "code",
   "execution_count": 9,
   "metadata": {
    "colab": {},
    "colab_type": "code",
    "id": "XPzPrMckl-hV"
   },
   "outputs": [],
   "source": [
    "cnn.add(tf.keras.layers.Conv2D(filters=32, kernel_size=3, activation='relu', input_shape=[64, 64, 3]))"
   ]
  },
  {
   "cell_type": "markdown",
   "metadata": {
    "colab_type": "text",
    "id": "tf87FpvxmNOJ"
   },
   "source": [
    "### Step 2 - Pooling"
   ]
  },
  {
   "cell_type": "code",
   "execution_count": 10,
   "metadata": {
    "colab": {},
    "colab_type": "code",
    "id": "ncpqPl69mOac"
   },
   "outputs": [],
   "source": [
    "cnn.add(tf.keras.layers.MaxPool2D(pool_size=2, strides=2))"
   ]
  },
  {
   "cell_type": "markdown",
   "metadata": {
    "colab_type": "text",
    "id": "xaTOgD8rm4mU"
   },
   "source": [
    "### Adding a second convolutional layer"
   ]
  },
  {
   "cell_type": "code",
   "execution_count": 11,
   "metadata": {
    "colab": {},
    "colab_type": "code",
    "id": "i_-FZjn_m8gk"
   },
   "outputs": [],
   "source": [
    "cnn.add(tf.keras.layers.Conv2D(filters=32, kernel_size=3, activation='relu'))\n",
    "cnn.add(tf.keras.layers.MaxPool2D(pool_size=2, strides=2))"
   ]
  },
  {
   "cell_type": "markdown",
   "metadata": {
    "colab_type": "text",
    "id": "tmiEuvTunKfk"
   },
   "source": [
    "### Step 3 - Flattening"
   ]
  },
  {
   "cell_type": "code",
   "execution_count": 12,
   "metadata": {
    "colab": {},
    "colab_type": "code",
    "id": "6AZeOGCvnNZn"
   },
   "outputs": [],
   "source": [
    "cnn.add(tf.keras.layers.Flatten())"
   ]
  },
  {
   "cell_type": "markdown",
   "metadata": {
    "colab_type": "text",
    "id": "dAoSECOm203v"
   },
   "source": [
    "### Step 4 - Full Connection"
   ]
  },
  {
   "cell_type": "code",
   "execution_count": 13,
   "metadata": {
    "colab": {},
    "colab_type": "code",
    "id": "8GtmUlLd26Nq"
   },
   "outputs": [],
   "source": [
    "cnn.add(tf.keras.layers.Dense(units=128, activation='relu'))"
   ]
  },
  {
   "cell_type": "markdown",
   "metadata": {
    "colab_type": "text",
    "id": "yTldFvbX28Na"
   },
   "source": [
    "### Step 5 - Output Layer"
   ]
  },
  {
   "cell_type": "code",
   "execution_count": 14,
   "metadata": {
    "colab": {},
    "colab_type": "code",
    "id": "1p_Zj1Mc3Ko_"
   },
   "outputs": [],
   "source": [
    "cnn.add(tf.keras.layers.Dense(units=1, activation='sigmoid'))"
   ]
  },
  {
   "cell_type": "markdown",
   "metadata": {
    "colab_type": "text",
    "id": "D6XkI90snSDl"
   },
   "source": [
    "## Part 3 - Training the CNN"
   ]
  },
  {
   "cell_type": "markdown",
   "metadata": {
    "colab_type": "text",
    "id": "vfrFQACEnc6i"
   },
   "source": [
    "### Compiling the CNN"
   ]
  },
  {
   "cell_type": "code",
   "execution_count": 15,
   "metadata": {
    "colab": {},
    "colab_type": "code",
    "id": "NALksrNQpUlJ"
   },
   "outputs": [],
   "source": [
    "cnn.compile(optimizer = 'adam', loss = 'binary_crossentropy', metrics = ['accuracy'])"
   ]
  },
  {
   "cell_type": "markdown",
   "metadata": {
    "colab_type": "text",
    "id": "ehS-v3MIpX2h"
   },
   "source": [
    "### Training the CNN on the Training set and evaluating it on the Test set"
   ]
  },
  {
   "cell_type": "code",
   "execution_count": 20,
   "metadata": {
    "colab": {},
    "colab_type": "code",
    "id": "XUj1W4PJptta"
   },
   "outputs": [
    {
     "name": "stdout",
     "output_type": "stream",
     "text": [
      "Epoch 1/25\n",
      "250/250 [==============================] - 65s 258ms/step - loss: 0.6900 - accuracy: 0.5353 - val_loss: 0.6882 - val_accuracy: 0.5265\n",
      "Epoch 2/25\n",
      "250/250 [==============================] - 65s 262ms/step - loss: 0.6832 - accuracy: 0.5611 - val_loss: 0.6843 - val_accuracy: 0.5515\n",
      "Epoch 3/25\n",
      "250/250 [==============================] - 66s 263ms/step - loss: 0.6781 - accuracy: 0.5763 - val_loss: 0.6737 - val_accuracy: 0.5725\n",
      "Epoch 4/25\n",
      "250/250 [==============================] - 67s 268ms/step - loss: 0.6632 - accuracy: 0.5949 - val_loss: 0.6517 - val_accuracy: 0.6085\n",
      "Epoch 5/25\n",
      "250/250 [==============================] - 71s 283ms/step - loss: 0.6465 - accuracy: 0.6174 - val_loss: 0.6384 - val_accuracy: 0.6450\n",
      "Epoch 6/25\n",
      "250/250 [==============================] - 71s 284ms/step - loss: 0.6349 - accuracy: 0.6308 - val_loss: 0.6146 - val_accuracy: 0.6835\n",
      "Epoch 7/25\n",
      "250/250 [==============================] - 72s 286ms/step - loss: 0.6172 - accuracy: 0.6531 - val_loss: 0.5938 - val_accuracy: 0.7005\n",
      "Epoch 8/25\n",
      "250/250 [==============================] - 72s 290ms/step - loss: 0.5922 - accuracy: 0.6796 - val_loss: 0.5905 - val_accuracy: 0.6890\n",
      "Epoch 9/25\n",
      "250/250 [==============================] - 88s 354ms/step - loss: 0.5826 - accuracy: 0.6884 - val_loss: 0.5722 - val_accuracy: 0.7160\n",
      "Epoch 10/25\n",
      "250/250 [==============================] - 101s 402ms/step - loss: 0.5600 - accuracy: 0.7065 - val_loss: 0.5668 - val_accuracy: 0.7130\n",
      "Epoch 11/25\n",
      "250/250 [==============================] - 93s 370ms/step - loss: 0.5573 - accuracy: 0.7106 - val_loss: 0.5773 - val_accuracy: 0.7050\n",
      "Epoch 12/25\n",
      "250/250 [==============================] - 93s 372ms/step - loss: 0.5413 - accuracy: 0.7269 - val_loss: 0.5759 - val_accuracy: 0.7020\n",
      "Epoch 13/25\n",
      "250/250 [==============================] - 96s 386ms/step - loss: 0.5324 - accuracy: 0.7283 - val_loss: 0.5308 - val_accuracy: 0.7355\n",
      "Epoch 14/25\n",
      "250/250 [==============================] - 171s 686ms/step - loss: 0.5075 - accuracy: 0.7444 - val_loss: 0.5118 - val_accuracy: 0.7585\n",
      "Epoch 15/25\n",
      "250/250 [==============================] - 178s 712ms/step - loss: 0.4967 - accuracy: 0.7540 - val_loss: 0.5071 - val_accuracy: 0.7505\n",
      "Epoch 16/25\n",
      "250/250 [==============================] - 99s 395ms/step - loss: 0.4785 - accuracy: 0.7675 - val_loss: 0.5078 - val_accuracy: 0.7555\n",
      "Epoch 17/25\n",
      "250/250 [==============================] - 98s 394ms/step - loss: 0.4717 - accuracy: 0.7735 - val_loss: 0.4947 - val_accuracy: 0.7715\n",
      "Epoch 18/25\n",
      "250/250 [==============================] - 99s 395ms/step - loss: 0.4575 - accuracy: 0.7770 - val_loss: 0.5469 - val_accuracy: 0.7385\n",
      "Epoch 19/25\n",
      "250/250 [==============================] - 99s 395ms/step - loss: 0.4423 - accuracy: 0.7893 - val_loss: 0.4777 - val_accuracy: 0.7820\n",
      "Epoch 20/25\n",
      "250/250 [==============================] - 1595s 6s/step - loss: 0.4419 - accuracy: 0.7921 - val_loss: 0.4835 - val_accuracy: 0.7835\n",
      "Epoch 21/25\n",
      "250/250 [==============================] - 68s 272ms/step - loss: 0.4242 - accuracy: 0.7941 - val_loss: 0.4781 - val_accuracy: 0.7805\n",
      "Epoch 22/25\n",
      "250/250 [==============================] - 64s 258ms/step - loss: 0.4070 - accuracy: 0.8117 - val_loss: 0.5543 - val_accuracy: 0.7545\n",
      "Epoch 23/25\n",
      "250/250 [==============================] - 72s 290ms/step - loss: 0.4062 - accuracy: 0.8150 - val_loss: 0.4805 - val_accuracy: 0.7935\n",
      "Epoch 24/25\n",
      "250/250 [==============================] - 66s 266ms/step - loss: 0.3886 - accuracy: 0.8240 - val_loss: 0.4830 - val_accuracy: 0.7875\n",
      "Epoch 25/25\n",
      "250/250 [==============================] - 67s 269ms/step - loss: 0.3812 - accuracy: 0.8288 - val_loss: 0.5413 - val_accuracy: 0.7670\n"
     ]
    },
    {
     "data": {
      "text/plain": [
       "<keras.callbacks.History at 0x1a53ca95820>"
      ]
     },
     "execution_count": 20,
     "metadata": {},
     "output_type": "execute_result"
    }
   ],
   "source": [
    "cnn.fit(x = training_set, validation_data = test_set, epochs = 25)"
   ]
  },
  {
   "cell_type": "markdown",
   "metadata": {
    "colab_type": "text",
    "id": "U3PZasO0006Z"
   },
   "source": [
    "## Part 4 - Making a single prediction"
   ]
  },
  {
   "cell_type": "code",
   "execution_count": 44,
   "metadata": {
    "colab": {},
    "colab_type": "code",
    "id": "gsSiWEJY1BPB"
   },
   "outputs": [
    {
     "name": "stdout",
     "output_type": "stream",
     "text": [
      "1/1 [==============================] - 0s 33ms/step\n"
     ]
    }
   ],
   "source": [
    "import numpy as np\n",
    "from tensorflow.keras.preprocessing import image\n",
    "\n",
    "test_image = image.load_img('dataset/single_prediction/cat_or_dog_1.jpg', target_size=(64, 64))\n",
    "\n",
    "test_image = image.img_to_array(test_image)\n",
    "test_image = np.expand_dims(test_image, axis = 0)\n",
    "result = cnn.predict(test_image)\n",
    "training_set.class_indices\n",
    "if result[0][0] == 1:\n",
    "    prediction = 'dog'\n",
    "else:\n",
    "    prediction = 'cat'"
   ]
  },
  {
   "cell_type": "code",
   "execution_count": 42,
   "metadata": {
    "colab": {},
    "colab_type": "code",
    "id": "ED9KB3I54c1i"
   },
   "outputs": [
    {
     "name": "stdout",
     "output_type": "stream",
     "text": [
      "Prediction: cat [[0.00072795]]\n"
     ]
    }
   ],
   "source": [
    "print('Prediction:', prediction, result)"
   ]
  }
 ],
 "metadata": {
  "colab": {
   "collapsed_sections": [],
   "name": "convolutional_neural_network.ipynb",
   "provenance": [],
   "toc_visible": true
  },
  "kernelspec": {
   "display_name": "Python 3 (ipykernel)",
   "language": "python",
   "name": "python3"
  },
  "language_info": {
   "codemirror_mode": {
    "name": "ipython",
    "version": 3
   },
   "file_extension": ".py",
   "mimetype": "text/x-python",
   "name": "python",
   "nbconvert_exporter": "python",
   "pygments_lexer": "ipython3",
   "version": "3.9.13"
  }
 },
 "nbformat": 4,
 "nbformat_minor": 1
}
